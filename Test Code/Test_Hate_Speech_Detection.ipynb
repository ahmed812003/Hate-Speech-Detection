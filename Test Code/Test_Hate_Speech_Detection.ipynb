{
  "nbformat": 4,
  "nbformat_minor": 0,
  "metadata": {
    "colab": {
      "provenance": []
    },
    "kernelspec": {
      "name": "python3",
      "display_name": "Python 3"
    },
    "language_info": {
      "name": "python"
    }
  },
  "cells": [
    {
      "cell_type": "code",
      "execution_count": 1,
      "metadata": {
        "id": "KhhP5xza1f40"
      },
      "outputs": [],
      "source": [
        "import joblib\n",
        "import numpy as np"
      ]
    },
    {
      "cell_type": "code",
      "source": [
        "clf = joblib.load(\"/content/hate_speech_model.h5\")\n",
        "cv = joblib.load(\"/content/count_vectorizer.pkl\")\n"
      ],
      "metadata": {
        "id": "hlZSRd3l1k0G"
      },
      "execution_count": 2,
      "outputs": []
    },
    {
      "cell_type": "code",
      "source": [
        "def predict(text):\n",
        "    transformed_text = cv.transform([text]).toarray()\n",
        "    prediction = clf.predict(transformed_text)\n",
        "    return prediction[0]"
      ],
      "metadata": {
        "id": "oKRwLD8q1nHe"
      },
      "execution_count": 3,
      "outputs": []
    },
    {
      "cell_type": "code",
      "source": [
        "test_data = \"I will kill you\"\n",
        "print(predict(test_data))"
      ],
      "metadata": {
        "colab": {
          "base_uri": "https://localhost:8080/"
        },
        "id": "MLRiwppv1pkn",
        "outputId": "50190628-b138-427f-b9fd-5c2a16c52dcd"
      },
      "execution_count": 4,
      "outputs": [
        {
          "output_type": "stream",
          "name": "stdout",
          "text": [
            "Hate Speech Detected\n"
          ]
        }
      ]
    },
    {
      "cell_type": "code",
      "source": [
        "test_data = \"you are awesome\"\n",
        "print(predict(test_data))"
      ],
      "metadata": {
        "colab": {
          "base_uri": "https://localhost:8080/"
        },
        "id": "1wnKXy-j1tf-",
        "outputId": "3b6dac35-e681-40c7-c3e5-cdb8ef72a758"
      },
      "execution_count": 5,
      "outputs": [
        {
          "output_type": "stream",
          "name": "stdout",
          "text": [
            "No hate and offensive speech\n"
          ]
        }
      ]
    },
    {
      "cell_type": "code",
      "source": [
        "test_data = \"you are bad i don't like you\"\n",
        "print(predict(test_data))"
      ],
      "metadata": {
        "colab": {
          "base_uri": "https://localhost:8080/"
        },
        "id": "-dixwsSl1x4u",
        "outputId": "0d269332-9165-4d02-e0fc-6d2303a34064"
      },
      "execution_count": 6,
      "outputs": [
        {
          "output_type": "stream",
          "name": "stdout",
          "text": [
            "Offensive language detected\n"
          ]
        }
      ]
    }
  ]
}