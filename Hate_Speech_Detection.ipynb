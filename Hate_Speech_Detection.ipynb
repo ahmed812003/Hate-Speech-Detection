{
  "nbformat": 4,
  "nbformat_minor": 0,
  "metadata": {
    "colab": {
      "provenance": []
    },
    "kernelspec": {
      "name": "python3",
      "display_name": "Python 3"
    },
    "language_info": {
      "name": "python"
    }
  },
  "cells": [
    {
      "cell_type": "code",
      "source": [
        "import pandas as pd\n",
        "import numpy as np\n",
        "from sklearn.feature_extraction.text import CountVectorizer\n",
        "from sklearn.model_selection import train_test_split\n",
        "from sklearn.tree import DecisionTreeClassifier"
      ],
      "metadata": {
        "id": "lrsG339rpQMd"
      },
      "execution_count": null,
      "outputs": []
    },
    {
      "cell_type": "code",
      "source": [
        "import re\n",
        "import nltk\n",
        "from nltk.util import pr\n",
        "stemmer = nltk.SnowballStemmer(\"english\")\n",
        "from nltk.corpus import stopwords\n",
        "import string\n",
        "stopword = set(stopwords.words(\"english\"))\n",
        "import joblib\n",
        "from google.colab import files"
      ],
      "metadata": {
        "id": "uv7fO1jcp8uA"
      },
      "execution_count": null,
      "outputs": []
    },
    {
      "cell_type": "code",
      "source": [
        "df = pd.read_csv(\"/content/twitter_data.csv\")\n",
        "print(df.head())"
      ],
      "metadata": {
        "id": "dbBDUOnqqU33"
      },
      "execution_count": null,
      "outputs": []
    },
    {
      "cell_type": "code",
      "source": [
        "df['labels'] = df['class'].map({0:\"Hate Speech Detected\", 1:\"Offensive language detected\" , 2:\"No hate and offensive speech\"})\n",
        "print(df.head())"
      ],
      "metadata": {
        "id": "sQ-biGhbq9-D"
      },
      "execution_count": null,
      "outputs": []
    },
    {
      "cell_type": "code",
      "source": [
        "df = df[['tweet' , 'labels']]\n",
        "df.head()"
      ],
      "metadata": {
        "id": "cpjTxOzLrevr"
      },
      "execution_count": null,
      "outputs": []
    },
    {
      "cell_type": "code",
      "source": [
        "def clean(text):\n",
        "  text = str(text).lower()\n",
        "  text = re.sub('\\[.*?\\]' , '' , text)\n",
        "  text = re.sub('https?://\\S+|www\\..S+' , '' , text)\n",
        "  text = re.sub('<.*?>+' , '' , text)\n",
        "  text = re.sub('[%s]' % re.escape(string.punctuation), '' , text)\n",
        "  text = re.sub('\\n' , '' , text)\n",
        "  text = re.sub('\\w*\\d\\w*' , '' , text)\n",
        "  text = [word for word in text.split(' ') if word not in stopword]\n",
        "  text = \" \".join(text)\n",
        "  text = [stemmer.stem(word) for word in text.split(' ')]\n",
        "  text = \" \".join(text)\n",
        "  return text\n",
        "\n",
        "df[\"tweet\"] = df[\"tweet\"].apply(clean)\n",
        "print(df.head())"
      ],
      "metadata": {
        "id": "075ZzAZssikf"
      },
      "execution_count": null,
      "outputs": []
    },
    {
      "cell_type": "code",
      "source": [
        "x = np.array(df[\"tweet\"])\n",
        "y = np.array(df[\"labels\"])\n",
        "\n",
        "cv = CountVectorizer()\n",
        "x = cv.fit_transform(x)\n",
        "X_train, X_test, y_train, y_test = train_test_split(x , y , test_size = 0.33 , random_state=42)\n",
        "clf = DecisionTreeClassifier()\n",
        "clf.fit(X_train, y_train)\n",
        "\n",
        "y_pred = clf.predict(X_test)\n",
        "accuracy = accuracy_score(y_test, y_pred)\n",
        "print(f\"Model Accuracy: {accuracy:.2f}\")\n",
        "\n",
        "# Save the model to an H5 file\n",
        "joblib_file = \"hate_speech_model.h5\"\n",
        "joblib.dump(clf, joblib_file)\n",
        "print(f\"Model saved to {joblib_file}\")\n",
        "\n",
        "# Save the CountVectorizer\n",
        "cv_file = \"count_vectorizer.pkl\"\n",
        "joblib.dump(cv, cv_file)\n",
        "print(f\"CountVectorizer saved to {cv_file}\")\n",
        "\n",
        "# Download the model and vectorizer files\n",
        "files.download(joblib_file)\n",
        "files.download(cv_file)\n"
      ],
      "metadata": {
        "id": "EeQbmBSSua-6"
      },
      "execution_count": null,
      "outputs": []
    },
    {
      "cell_type": "code",
      "source": [
        "test_data = \"I will kill you\"\n",
        "df = cv.transform([test_data]).toarray()\n",
        "print(clf.predict(df))"
      ],
      "metadata": {
        "id": "r2Ze5WdqvJZu"
      },
      "execution_count": null,
      "outputs": []
    },
    {
      "cell_type": "code",
      "source": [
        "test_data = \"you are awesome\"\n",
        "df = cv.transform([test_data]).toarray()\n",
        "print(clf.predict(df))"
      ],
      "metadata": {
        "id": "KJTpQSHPvcwL"
      },
      "execution_count": null,
      "outputs": []
    },
    {
      "cell_type": "code",
      "source": [
        "test_data = \"you are bad i don't like you\"\n",
        "df = cv.transform([test_data]).toarray()\n",
        "print(clf.predict(df))"
      ],
      "metadata": {
        "id": "6sqP54rwvlYY"
      },
      "execution_count": null,
      "outputs": []
    }
  ]
}